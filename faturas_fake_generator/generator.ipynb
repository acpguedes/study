{
 "cells": [
  {
   "cell_type": "code",
   "execution_count": 9,
   "metadata": {},
   "outputs": [],
   "source": [
    "import pandas as pd\n",
    "import numpy as np\n",
    "from typing import List, Dict\n",
    "from faker import Faker\n",
    "import random\n",
    "import datetime"
   ]
  },
  {
   "cell_type": "code",
   "execution_count": 5,
   "metadata": {},
   "outputs": [],
   "source": [
    "\n",
    "def create_dataframe(size: int = 10)-> pd.DataFrame:\n",
    "    \"\"\"\n",
    "    Cria um dataframe com dados fakes de acordo com o tamanho passado como argumento.\n",
    "    :param size: int: Tamanho do dataframe a ser criado (padrão é 10)\n",
    "    :return: pd.DataFrame: Dataframe com dados fakes\n",
    "    \"\"\"\n",
    "\n",
    "    fake = Faker()\n",
    "\n",
    "    # Cria um dataframe com dados de 10 pessoas\n",
    "    df = pd.DataFrame({\n",
    "        \"name\": [fake.name() for _ in range(size)],\n",
    "        \"age\": [fake.random_int(min=18, max=80, step=1) for _ in range(size)],\n",
    "        \"location\": [random.choice([\"interior\", \"cidade\", \"rural\"]) for _ in range(size)]\n",
    "    })\n",
    "    return df\n"
   ]
  },
  {
   "cell_type": "code",
   "execution_count": 10,
   "metadata": {},
   "outputs": [],
   "source": [
    "\n",
    "def gerar_faturas(\n",
    "        clientes: List[str],\n",
    "        n_faturas_min: int = 20,\n",
    "        n_faturas_max: int = 60,\n",
    "        valor_minimo: float = 60,\n",
    "        valor_maximo: float = 500,\n",
    "        sd_min: float = 2,\n",
    "        sd_max: float = 1\n",
    ")-> pd.DataFrame:\n",
    "    \"\"\"Gera faturamento de clientes de forma aleatória.\n",
    "    \n",
    "    :param clientes: List[str]: Lista com os nomes dos clientes.\n",
    "    :param n_faturas_min: int: Número mínimo de faturas a serem geradas para cada cliente.\n",
    "    :param n_faturas_max: int: Número máximo de faturas a serem geradas para cada cliente.\n",
    "    :param valor_minimo: float: Valor mínimo das faturas.\n",
    "    :param valor_maximo: float: Valor máximo das faturas.\n",
    "    :param sd_min: float: Desvio padrão mínimo.\n",
    "    :param sd_max: float: Desvio padrão máximo.\n",
    "\n",
    "    :return: pd.DataFrame: Tabela com as faturas geradas.\n",
    "    \"\"\"\n",
    "    dados_faturas = []\n",
    "\n",
    "    for cliente in clientes:\n",
    "        num_faturas = np.random.randint(n_faturas_min, n_faturas_max+1)  # Entre 20 e 60 faturas\n",
    "\n",
    "        media_fatura = np.random.uniform(valor_minimo, valor_maximo)  \n",
    "        desvio_padrao = np.random.uniform(sd_min, sd_max)  # Desvio padrão entre 2 e 5\n",
    "\n",
    "        valores_faturas = np.random.normal(media_fatura, desvio_padrao, num_faturas)\n",
    "\n",
    "        for valor in valores_faturas:\n",
    "            dados_faturas.append([cliente, valor])\n",
    "\n",
    "    df_faturas = pd.DataFrame(dados_faturas, columns=['Cliente', 'Valor da Fatura'])\n",
    "\n",
    "    df_faturas['Número da Fatura'] = df_faturas.groupby('Cliente').cumcount() + 1\n",
    "\n",
    "    return df_faturas\n"
   ]
  },
  {
   "cell_type": "code",
   "execution_count": null,
   "metadata": {},
   "outputs": [],
   "source": []
  }
 ],
 "metadata": {
  "kernelspec": {
   "display_name": ".venv",
   "language": "python",
   "name": "python3"
  },
  "language_info": {
   "codemirror_mode": {
    "name": "ipython",
    "version": 3
   },
   "file_extension": ".py",
   "mimetype": "text/x-python",
   "name": "python",
   "nbconvert_exporter": "python",
   "pygments_lexer": "ipython3",
   "version": "3.10.12"
  }
 },
 "nbformat": 4,
 "nbformat_minor": 2
}
